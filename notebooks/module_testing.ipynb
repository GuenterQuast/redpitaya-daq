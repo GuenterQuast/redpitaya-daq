{
 "cells": [
  {
   "cell_type": "code",
   "execution_count": 27,
   "metadata": {},
   "outputs": [],
   "source": [
    "messung =\"1\""
   ]
  },
  {
   "cell_type": "code",
   "execution_count": 28,
   "metadata": {},
   "outputs": [],
   "source": [
    "import yaml\n",
    "\n",
    "import os\n",
    "import sys\n",
    "\n",
    "import matplotlib.pyplot as plt\n",
    "import numpy as np\n",
    "\n",
    "notebook_path = os.path.abspath('')\n",
    "project_root = os.path.dirname(notebook_path)\n",
    "sys.path.append(project_root)\n",
    "\n",
    "from modules.filters import *\n",
    "\n",
    "from helpers.read_osc_to_df import *"
   ]
  },
  {
   "cell_type": "code",
   "execution_count": 29,
   "metadata": {},
   "outputs": [],
   "source": [
    "# Import Config dict\n",
    "config_dict=yaml.load(open(\"../config/coincidence_config.yaml\", \"r\"),yaml.SafeLoader)[\"find_peaks\"]\n",
    "config_dict\n",
    "\n",
    "# Config from find peaks\n",
    "if config_dict is None:\n",
    "    raise ValueError(\"ERROR! Wrong configuration passed (in lifetime_modules: calculate_decay_time)!!\")\n",
    "\n",
    "# Load configuration\n",
    "sample_time_ns = config_dict[\"sample_time_ns\"]\n",
    "number_of_samples = config_dict[\"number_of_samples\"]\n",
    "analogue_offset = config_dict[\"analogue_offset\"]*1000\n",
    "pre_trigger_samples = config_dict[\"pre_trigger_samples\"]\n",
    "trigger_channel = 'ch'+config_dict[\"trigger_channel\"]\n",
    "coincidence_window = config_dict[\"coincidence_window\"]\n",
    "\n",
    "\n",
    "peak_config = config_dict[\"peak_config\"]\n",
    "\n",
    "\n",
    "list_of_channels = config_dict[\"list_of_channels\"]\n",
    "clipping_level = config_dict[\"clipping_level\"]\n",
    "\n",
    "\n",
    "if trigger_channel not in list_of_channels:\n",
    "    raise ValueError(f'{trigger_channel} not in list of channels: {list_of_channels}') \n",
    "trigger_position_tolerance = config_dict[\"trigger_position_tolerance\"]\n",
    "\n",
    "signal_channels = [channel for channel in list_of_channels if channel != trigger_channel]\n",
    "\n",
    "\n",
    "# nur weil net aus Sink List importierbar\n",
    "sink_list=[{'number_of_slots': 100, 'values_per_slot': 1, 'dtype': [('ch1_height', np.dtype('int16')), ('ch1_position', np.dtype('int16')), ('ch2_height', np.dtype('int16')), ('ch2_position', np.dtype('int16'))], 'mshare_name': 'psm_6d5dbd39', 'metadata_share_name': 'psm_faef346f', 'empty_queue': \"<multiprocessing.queues.SimpleQueue object at 0x7f72ccb310>\", 'filled_queue': \"<multiprocessing.queues.SimpleQueue object at 0x7f72ccba50>\", 'active': \"<Event at 0x7f72ccbf10 set>\", 'paused': \"<Event at 0x7f72ce8cd0 unset>\", 'debug': False}]\n",
    "pulse_par_dtype = sink_list[-1]['dtype']\n",
    "# glaub neu\n",
    "empty_peak_data=np.zeros( (1,), dtype=pulse_par_dtype)"
   ]
  },
  {
   "cell_type": "code",
   "execution_count": 30,
   "metadata": {},
   "outputs": [
    {
     "name": "stdout",
     "output_type": "stream",
     "text": [
      "Data read successfully, recorded triggers = 2752\n"
     ]
    }
   ],
   "source": [
    "#load Data\n",
    "data,number_of_triggers=import_data(project_root+ \"/measurements/measurement_3_\" + messung +\"min.npy\",number_of_samples, list_of_channels)"
   ]
  },
  {
   "cell_type": "code",
   "execution_count": 31,
   "metadata": {},
   "outputs": [],
   "source": [
    "\n",
    "\n",
    "# define tag_pulses\n",
    "def tag_pulses(input_data):   \n",
    "    \"\"\"find all valid pulses \n",
    "\n",
    "    This function to be called by instance of class mimoCoRB.rbTransfer\n",
    "\n",
    "        Args:  input data as structured ndarray\n",
    "\n",
    "        Returns: list of parameterized pulses\n",
    "        \n",
    "        \n",
    "        Currently only works with two channels. Every part which requires two channels ist marked with ### two\n",
    "    \"\"\"\n",
    "    # Discard all events with clipping\n",
    "    if check_for_clipping(input_data): return None\n",
    "    # Only consider events with one peak in the trigger_channel\n",
    "    if len(peaks[trigger_channel])!=1: return None\n",
    "    \n",
    "    # Find all peaks and store their properties in a dict\n",
    "    peaks, peaks_prop = tag_peaks(input_data, peak_config)\n",
    "    peak_data=empty_peak_data.copy()\n",
    "    \n",
    "    trigger_peak=peaks[trigger_channel][0]\n",
    "    for signal_channel in signal_channels:\n",
    "        if len(peaks[signal_channel])!=1: ### two\n",
    "            return None ### two\n",
    "        # calculation should be moved to init of a class\n",
    "        Delta_T=coincidence_window[signal_channel]['offest_from_trigger']/sample_time_ns\n",
    "        w=coincidence_window[signal_channel]['width_of_window']/sample_time_ns\n",
    "        for peak in peaks[signal_channel]:\n",
    "            # check for coincidences\n",
    "            if -w/2<=peak-Delta_T-trigger_peak<=w/2:\n",
    "                # explanation: t+Delta_T-w/2<=peak<=t+Delta_T+w/2\n",
    "                \"\"\"ab hier erstmal nur für einen trigger und einen signal channel\"\"\"\n",
    "                peak_data[0][signal_channel+'_position'] = peak\n",
    "                peak_data[0][trigger_channel+'_position'] = trigger_peak\n",
    "                peak_data[0][signal_channel+'_height'] = peaks_prop[signal_channel]['relative_height'][0] # das muss später weg wenn man mehr als ein peak betrachtet\n",
    "                peak_data[0][trigger_channel+'_height'] = peaks_prop[trigger_channel]['relative_height'][0]\n",
    "    if peak_data!=empty_peak_data:\n",
    "        return peak_data\n",
    "    else: \n",
    "        return None"
   ]
  },
  {
   "cell_type": "code",
   "execution_count": 33,
   "metadata": {},
   "outputs": [],
   "source": [
    "for i,d in enumerate(data[0:1]):\n",
    "    t=tag_pulses(d)\n",
    "    if t is not None:\n",
    "        d_out=d\n",
    "        plt.title(str(i))\n",
    "        plt.plot(d_out['ch1'])\n",
    "        plt.plot(d_out['ch2'])\n",
    "        plt.show()\n",
    "\n"
   ]
  },
  {
   "cell_type": "code",
   "execution_count": 41,
   "metadata": {},
   "outputs": [
    {
     "name": "stdout",
     "output_type": "stream",
     "text": [
      "('ch1', 'ch2')\n"
     ]
    }
   ],
   "source": [
    "print(data[0].dtype.names)"
   ]
  },
  {
   "cell_type": "code",
   "execution_count": null,
   "metadata": {},
   "outputs": [],
   "source": []
  },
  {
   "cell_type": "code",
   "execution_count": 7,
   "metadata": {},
   "outputs": [
    {
     "name": "stdout",
     "output_type": "stream",
     "text": [
      "[('ch1_height', dtype('int16')), ('ch1_position', dtype('int16')), ('ch2_height', dtype('int16')), ('ch2_position', dtype('int16'))]\n",
      "[('ch1_height', dtype('int16')), ('ch1_position', dtype('int16')), ('ch2_height', dtype('int16')), ('ch2_position', dtype('int16'))]\n"
     ]
    }
   ],
   "source": [
    "print(sink_list[-1]['dtype'])\n",
    "print(pulse_par_dtype)"
   ]
  },
  {
   "cell_type": "code",
   "execution_count": null,
   "metadata": {},
   "outputs": [],
   "source": []
  }
 ],
 "metadata": {
  "kernelspec": {
   "display_name": "base",
   "language": "python",
   "name": "python3"
  },
  "language_info": {
   "codemirror_mode": {
    "name": "ipython",
    "version": 3
   },
   "file_extension": ".py",
   "mimetype": "text/x-python",
   "name": "python",
   "nbconvert_exporter": "python",
   "pygments_lexer": "ipython3",
   "version": "3.12.3"
  }
 },
 "nbformat": 4,
 "nbformat_minor": 2
}
