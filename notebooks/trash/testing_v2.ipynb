{
 "cells": [
  {
   "cell_type": "code",
   "execution_count": 1,
   "metadata": {},
   "outputs": [],
   "source": [
    "from npy_append_array import NpyAppendArray\n",
    "import numpy as np\n",
    "import matplotlib.pyplot as plt\n",
    "from scipy import signal\n",
    "\n",
    "\n",
    "multiple_peaks_found=[]\n",
    "no_start_found=[]\n"
   ]
  },
  {
   "cell_type": "code",
   "execution_count": 58,
   "metadata": {},
   "outputs": [],
   "source": [
    "\"\"\"ToDo das als Import\"\"\"\n",
    "def tag_peaks(input_data, prominence, distance, width):\n",
    "    peaks = {}\n",
    "    peaks_prop = {}\n",
    "    for key in input_data.dtype.names:\n",
    "        peaks[key], peaks_prop[key] = signal.find_peaks(\n",
    "            input_data[key], prominence=prominence[key], distance=distance[key], width=width[key]\n",
    "        )\n",
    "    return peaks, peaks_prop\n",
    "\n",
    "def import_data(filename, number_of_samples, channel_names):\n",
    "    \"\"\"\n",
    "    Convert recorded pulses into a structured array, similar to how it would be handled by mimoCorb.\n",
    "\n",
    "    Parameters:\n",
    "    filename (str): Path to the file containing the recorded pulse data.\n",
    "    number_of_samples (int): Number of samples to consider for each channel.\n",
    "    channel_names (list): List of channel names.\n",
    "\n",
    "    Returns:\n",
    "    np.ndarray: Structured array containing the recorded pulse data.\n",
    "    \"\"\"\n",
    "    # Load the data from the file using memory mapping to handle large files efficiently\n",
    "    data = np.load(filename, mmap_mode='r')\n",
    "    \n",
    "    # Define the data type for each channel with the given number of samples\n",
    "    dtype_sample = f'{number_of_samples}int16'\n",
    "    dtype = np.dtype([(channel, dtype_sample) for channel in channel_names])\n",
    "    \n",
    "    # Initialize the structured array with the correct dtype\n",
    "    structured_data = np.zeros(len(data), dtype=dtype)\n",
    "    \n",
    "    # Populate the structured array with data\n",
    "    for i, record in enumerate(data):\n",
    "        for j, channel in enumerate(channel_names):\n",
    "            structured_data[i][channel] = record[j][:number_of_samples]\n",
    "    \n",
    "    # Print the number of recorded triggers\n",
    "    print(\"Data read successfully, recorded triggers =\", structured_data.size)\n",
    "    \n",
    "    return structured_data, structured_data.size\n",
    "\n",
    "\n",
    "def peak_height(input_data,peak_postion,peak_prop,gradient_upper_bound,gradient_lower_bound,key):\n",
    "    global no_start_found\n",
    "    global i\n",
    "    global color_table\n",
    "    \"\"\"This module takes a 1d array, and the peak position and properties (from scipy.signal.find_peaks) and returns the indizes of the starting position of each peak\n",
    "\n",
    "        the start of the peak is here defined as the first time the gradient of the input_data is 0 before the left_ips of the peak\n",
    "        \n",
    "        ToDo: add the option to set a limit for the gradient\n",
    "        \n",
    "        returns None if no start could be found\n",
    "    \"\"\"\n",
    "    gradient=np.gradient(input_data)\n",
    "    right_bound=int(peak_prop['left_ips'])\n",
    "    d,g=input_data[:right_bound],gradient[:right_bound]\n",
    "    non_zeros=np.nonzero(np.logical_and(g<=gradient_upper_bound,g>=gradient_lower_bound))\n",
    "    try:\n",
    "        start=non_zeros[0][-1]\n",
    "        #plt.hlines([input_data[start],input_data[peak_postion]],xmin=start,xmax=peak_postion,colors=color_table[key])\n",
    "        #plt.vlines([start,peak_postion],ymin=input_data[start],ymax=input_data[peak_postion],colors=color_table[key])\n",
    "    except:\n",
    "        no_start_found.append(i)\n",
    "        return None\n",
    "    \n",
    "    height=input_data[peak_postion]-input_data[start] \n",
    "    if filter(height,key):\n",
    "        return None \n",
    "\n",
    "            \n",
    "    #if height<1500:\n",
    "    #    return None\n",
    "    # if key=='ch2' and 2900<height<3100:\n",
    "    #     return None\n",
    "    return height\n",
    "        "
   ]
  },
  {
   "cell_type": "code",
   "execution_count": 59,
   "metadata": {},
   "outputs": [],
   "source": [
    "messung=\"5\"\n",
    "\n",
    "#later to be imported from config_dict\n",
    "sample_time_ns = 256\n",
    "analogue_offset = 0*1000\n",
    "trigger_channel = 'ch2'\n",
    "coincid_channel = 'ch1'\n",
    "\n",
    "peak_minimal_prominence = {'ch1': 200, 'ch2': 200}\n",
    "peak_minimal_distance = {'ch1': 400, 'ch2': 400}\n",
    "peak_minimal_width = {'ch1': 10, 'ch2': 10}\n",
    "\n",
    "gradient_lower_bound = {'ch1': 0, 'ch2': 0}\n",
    "gradient_upper_bound = {'ch1': 0, 'ch2': 0}\n",
    "\n",
    "number_of_samples=1000\n",
    "\n",
    "window_us=8\n",
    "window=window_us*1000/sample_time_ns\n",
    "\n",
    "color_table={'ch1': \"tab:orange\", 'ch2': \"tab:blue\"}\n",
    "channel_names=np.array(['ch1','ch2'])"
   ]
  },
  {
   "cell_type": "code",
   "execution_count": 60,
   "metadata": {},
   "outputs": [
    {
     "name": "stdout",
     "output_type": "stream",
     "text": [
      "Data read successfully, recorded triggers = 10810\n"
     ]
    }
   ],
   "source": [
    "data,number_of_triggers=import_data(\"measurements/measurement_3_\" + messung +\"min.npy\",number_of_samples, channel_names)\n"
   ]
  },
  {
   "cell_type": "code",
   "execution_count": 61,
   "metadata": {},
   "outputs": [],
   "source": [
    "def func(input_data):\n",
    "    global multiple_peaks_found\n",
    "    global i\n",
    "    #print(input_data['ch1'])\n",
    "    height={'ch1': 0,'ch2':0}\n",
    "    peaks,peaks_prop=tag_peaks(input_data,peak_minimal_prominence,peak_minimal_distance,peak_minimal_width)\n",
    "    #Check if multiple peaks were found, discard to be dealt with later\n",
    "    n_peaks_1=len(peaks['ch1'])\n",
    "    n_peaks_2=len(peaks['ch2'])\n",
    "    if n_peaks_1>1 or n_peaks_2>1:\n",
    "        #print(\"Mehrere Peaks gefunden, ToDo\")\n",
    "        #plt.plot(input_data['ch1'])\n",
    "        #plt.plot(input_data['ch2'])\n",
    "        #plt.show()\n",
    "        multiple_peaks_found.append(i)\n",
    "        return None\n",
    "    if n_peaks_1==0 or n_peaks_2==0:\n",
    "        return None\n",
    "    \n",
    "    #Check for coincidence\n",
    "    if np.abs(peaks['ch1'][0]-peaks['ch2'][0])>window:\n",
    "        return None\n",
    "    else:\n",
    "        for key in channel_names:\n",
    "            property_list=list(peaks_prop[key].keys())\n",
    "            for property in property_list:\n",
    "                peaks_prop[key][property]=peaks_prop[key][property][0]\n",
    "        for key in channel_names:\n",
    "            ret_height=peak_height(input_data[key],peaks[key][0],peaks_prop[key],gradient_upper_bound[key],gradient_lower_bound[key],key)\n",
    "            if ret_height!=None:\n",
    "                height[key]=ret_height\n",
    "            else:\n",
    "                return None\n",
    "    \n",
    "    \n",
    "    return height"
   ]
  },
  {
   "cell_type": "code",
   "execution_count": 94,
   "metadata": {},
   "outputs": [],
   "source": [
    "def filter(height,key):\n",
    "    \"\"\"return True if event should be ignored\"\"\"\n",
    "    # if height<1500:\n",
    "    #     return True\n",
    "    # if key=='ch2' and 2900<height<3100:\n",
    "    #     return True\n",
    "    \n",
    "    # ### Cut of below Peak\n",
    "    # if key=='ch1' and height<1200:\n",
    "    #     return True\n",
    "    # if key=='ch2' and height<2900:\n",
    "    #     return True\n",
    "    return False\n",
    "    "
   ]
  },
  {
   "cell_type": "code",
   "execution_count": 95,
   "metadata": {},
   "outputs": [],
   "source": [
    "heights1=[]\n",
    "heights2=[]\n",
    "#print(number_of_triggers)\n",
    "for i in range(number_of_triggers):\n",
    "    d=data[i]\n",
    "    ret=func(d)\n",
    "    if ret==None:\n",
    "        continue\n",
    "    #plt.plot(d['ch1'],color=color_table['ch1'])\n",
    "    #plt.plot(d['ch2'],color=color_table['ch2'])\n",
    "    #plt.show()\n",
    "    heights1.append(ret['ch1'])\n",
    "    heights2.append(ret['ch2'])\n",
    "\n",
    "\n",
    "\n"
   ]
  },
  {
   "cell_type": "code",
   "execution_count": 96,
   "metadata": {},
   "outputs": [],
   "source": [
    "# for j in multiple_peaks_found:\n",
    "#     plt.plot(data[j]['ch1'])\n",
    "#     plt.plot(data[j]['ch2'])\n",
    "#     plt.show()"
   ]
  },
  {
   "cell_type": "code",
   "execution_count": 97,
   "metadata": {},
   "outputs": [],
   "source": [
    "# for j in no_start_found:\n",
    "#     plt.plot(data[j]['ch1'])\n",
    "#     plt.plot(data[j]['ch2'])\n",
    "#     plt.show()"
   ]
  },
  {
   "cell_type": "code",
   "execution_count": 98,
   "metadata": {},
   "outputs": [
    {
     "data": {
      "image/png": "[encoded data removed]",
      "text/plain": [
       "<Figure size 640x480 with 1 Axes>"
      ]
     },
     "metadata": {},
     "output_type": "display_data"
    },
    {
     "data": {
      "image/png": "[encoded data removed]",
      "text/plain": [
       "<Figure size 640x480 with 1 Axes>"
      ]
     },
     "metadata": {},
     "output_type": "display_data"
    }
   ],
   "source": [
    "nbins=50\n",
    "plt.hist(heights1,bins=nbins)\n",
    "plt.show()\n",
    "plt.hist(heights2,bins=nbins)\n",
    "plt.show()"
   ]
  },
  {
   "cell_type": "code",
   "execution_count": null,
   "metadata": {},
   "outputs": [],
   "source": []
  }
 ],
 "metadata": {
  "kernelspec": {
   "display_name": "base",
   "language": "python",
   "name": "python3"
  },
  "language_info": {
   "codemirror_mode": {
    "name": "ipython",
    "version": 3
   },
   "file_extension": ".py",
   "mimetype": "text/x-python",
   "name": "python",
   "nbconvert_exporter": "python",
   "pygments_lexer": "ipython3",
   "version": "3.10.12"
  }
 },
 "nbformat": 4,
 "nbformat_minor": 2
}
