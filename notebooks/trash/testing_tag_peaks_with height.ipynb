{
 "cells": [
  {
   "cell_type": "code",
   "execution_count": 20,
   "metadata": {},
   "outputs": [
    {
     "ename": "ModuleNotFoundError",
     "evalue": "No module named 'mimocorb'",
     "output_type": "error",
     "traceback": [
      "\u001b[0;31m---------------------------------------------------------------------------\u001b[0m",
      "\u001b[0;31mModuleNotFoundError\u001b[0m                       Traceback (most recent call last)",
      "Cell \u001b[0;32mIn[20], line 14\u001b[0m\n\u001b[1;32m     12\u001b[0m \u001b[38;5;28;01mfrom\u001b[39;00m \u001b[38;5;21;01mhelpers\u001b[39;00m\u001b[38;5;21;01m.\u001b[39;00m\u001b[38;5;21;01mread_osc_to_df\u001b[39;00m \u001b[38;5;28;01mimport\u001b[39;00m \u001b[38;5;241m*\u001b[39m\n\u001b[1;32m     13\u001b[0m \u001b[38;5;66;03m#from modules.coincidence_filter import *\u001b[39;00m\n\u001b[0;32m---> 14\u001b[0m \u001b[38;5;28;01mfrom\u001b[39;00m \u001b[38;5;21;01mmodules\u001b[39;00m\u001b[38;5;21;01m.\u001b[39;00m\u001b[38;5;21;01mfilters\u001b[39;00m \u001b[38;5;28;01mimport\u001b[39;00m \u001b[38;5;241m*\u001b[39m\n",
      "File \u001b[0;32m~/git/coincidence/modules/filters.py:1\u001b[0m\n\u001b[0;32m----> 1\u001b[0m \u001b[38;5;28;01mfrom\u001b[39;00m \u001b[38;5;21;01mmimocorb\u001b[39;00m \u001b[38;5;28;01mimport\u001b[39;00m mimo_buffer \u001b[38;5;28;01mas\u001b[39;00m bm\n\u001b[1;32m      2\u001b[0m \u001b[38;5;28;01mfrom\u001b[39;00m \u001b[38;5;21;01mscipy\u001b[39;00m \u001b[38;5;28;01mimport\u001b[39;00m signal\n\u001b[1;32m      3\u001b[0m \u001b[38;5;28;01mimport\u001b[39;00m \u001b[38;5;21;01mnumpy\u001b[39;00m \u001b[38;5;28;01mas\u001b[39;00m \u001b[38;5;21;01mnp\u001b[39;00m\n",
      "\u001b[0;31mModuleNotFoundError\u001b[0m: No module named 'mimocorb'"
     ]
    }
   ],
   "source": [
    "from npy_append_array import NpyAppendArray\n",
    "import numpy as np\n",
    "import matplotlib.pyplot as plt\n",
    "from scipy import signal\n",
    "import sys\n",
    "import os\n",
    "\n",
    "notebook_path = os.path.abspath('')\n",
    "project_root = os.path.dirname(notebook_path)\n",
    "sys.path.append(project_root)\n",
    "\n",
    "from helpers.read_osc_to_df import *\n",
    "#from modules.coincidence_filter import *\n",
    "from modules.filters import *\n",
    "\n"
   ]
  },
  {
   "cell_type": "code",
   "execution_count": 21,
   "metadata": {},
   "outputs": [],
   "source": [
    "def tag_pulses(input_data):   \n",
    "    \"\"\"find all valid pulses \n",
    "\n",
    "    This function to be called by instance of class mimoCoRB.rbTransfer\n",
    "\n",
    "        Args:  input data as structured ndarray\n",
    "\n",
    "        Returns: list of parameterized pulses\n",
    "        \n",
    "        \n",
    "        Currently only works with two channels. Every part which requires two channels ist marked with ### two\n",
    "    \"\"\"\n",
    "\n",
    "    # Find all the peaks and store them in a dictionary\n",
    "    peaks, peaks_prop = tag_peaks(input_data, peak_minimal_prominence, peak_minimal_distance, peak_minimal_width)\n",
    "\n",
    "    peak_data= np.zeros( (1,), dtype=pulse_par_dtype)\n",
    "    \n",
    "    # Only consider events with one peak in the trigger_channel\n",
    "    if len(peaks[trigger_channel]!=1):\n",
    "        return None\n",
    "    trigger_peak=peaks[trigger_channel][0]\n",
    "    for signal_channel in signal_channels:\n",
    "        if len(peaks[signal_channel])!=1: ### two\n",
    "            return None ### two\n",
    "        Delta_T=coincidence_window[signal_channel]['offest_from_trigger']/sample_time_ns\n",
    "        w=coincidence_window[signal_channel]['width_of_window']/sample_time_ns\n",
    "        for peak in peaks[signal_channel]:\n",
    "            if -w/2<=peak-Delta_T-trigger_peak<=w/2:\n",
    "                # explanation: t+Delta_T-w/2<=peak<=t+Delta_T+w/2\n",
    "                \"\"\"ab hier erstmal nur für einen trigger und einen signal channel\"\"\"\n",
    "                peak_data[0][signal_channel+'_position'] = peak\n",
    "                peak_data[0][trigger_channel+'_position'] = trigger_peak\n",
    "                peak_data[0][signal_channel+'_height'] = peaks_prop[signal_channel]['relative_height']\n",
    "                peak_data[0][trigger_channel+'_height'] = peaks_prop[trigger_channel]['relative_height']\n",
    "    \n",
    "    \n",
    "    return [peak_data]  "
   ]
  },
  {
   "cell_type": "code",
   "execution_count": 22,
   "metadata": {},
   "outputs": [],
   "source": [
    "messung=\"1\"\n",
    "\n",
    "#later to be imported from config_dict\n",
    "sample_time_ns = 256\n",
    "analogue_offset = 0*1000\n",
    "trigger_channel = 'ch2'\n",
    "coincid_channel = 'ch1'\n",
    "\n",
    "peak_minimal_prominence = {'ch1': 200, 'ch2': 200}\n",
    "peak_minimal_distance = {'ch1': 400, 'ch2': 400}\n",
    "peak_minimal_width = {'ch1': 10, 'ch2': 10}\n",
    "\n",
    "gradient_lower_bound = {'ch1': 0, 'ch2': 0}\n",
    "gradient_upper_bound = {'ch1': 0, 'ch2': 0}\n",
    "\n",
    "number_of_samples=1000\n",
    "\n",
    "window_us=8\n",
    "window=window_us*1000/sample_time_ns\n",
    "\n",
    "color_table={'ch1': \"tab:orange\", 'ch2': \"tab:blue\"}\n",
    "channel_names=np.array(['ch1','ch2'])"
   ]
  },
  {
   "cell_type": "code",
   "execution_count": 23,
   "metadata": {},
   "outputs": [
    {
     "name": "stdout",
     "output_type": "stream",
     "text": [
      "Data read successfully, recorded triggers = 2752\n"
     ]
    }
   ],
   "source": [
    "data,number_of_triggers=import_data(project_root+ \"/measurements/measurement_3_\" + messung +\"min.npy\",number_of_samples, channel_names)\n"
   ]
  },
  {
   "cell_type": "code",
   "execution_count": 24,
   "metadata": {},
   "outputs": [
    {
     "ename": "NameError",
     "evalue": "name 'tag_peaks' is not defined",
     "output_type": "error",
     "traceback": [
      "\u001b[0;31m---------------------------------------------------------------------------\u001b[0m",
      "\u001b[0;31mNameError\u001b[0m                                 Traceback (most recent call last)",
      "Cell \u001b[0;32mIn[24], line 2\u001b[0m\n\u001b[1;32m      1\u001b[0m \u001b[38;5;28;01mfor\u001b[39;00m d \u001b[38;5;129;01min\u001b[39;00m data[\u001b[38;5;241m0\u001b[39m:\u001b[38;5;241m5\u001b[39m]:\n\u001b[0;32m----> 2\u001b[0m     peaks,peaks_prop\u001b[38;5;241m=\u001b[39m\u001b[43mtag_peaks\u001b[49m(d,peak_minimal_prominence, peak_minimal_distance, peak_minimal_width, gradient_upper_bound, gradient_lower_bound)\n\u001b[1;32m      3\u001b[0m     \u001b[38;5;66;03m#print(peaks_prop['ch2'])\u001b[39;00m\n\u001b[1;32m      4\u001b[0m     \u001b[38;5;28;01mfor\u001b[39;00m key \u001b[38;5;129;01min\u001b[39;00m d\u001b[38;5;241m.\u001b[39mdtype\u001b[38;5;241m.\u001b[39mnames:\n",
      "\u001b[0;31mNameError\u001b[0m: name 'tag_peaks' is not defined"
     ]
    }
   ],
   "source": [
    "for d in data[0:5]:\n",
    "    peaks,peaks_prop=tag_peaks(d,peak_minimal_prominence, peak_minimal_distance, peak_minimal_width, gradient_upper_bound, gradient_lower_bound)\n",
    "    #print(peaks_prop['ch2'])\n",
    "    for key in d.dtype.names:\n",
    "        plt.plot(d[key],color=color_table[key])\n",
    "        plt.vlines(peaks_prop[key]['start_position'],ymin=peaks_prop[key]['absolute_height_at_start'],ymax=peaks_prop[key]['absolute_height_at_peak'],colors=color_table[key])\n",
    "        plt.hlines(peaks_prop[key]['absolute_height_at_peak'],xmin=peaks_prop[key]['start_position'],xmax=peaks[key],colors=color_table[key])\n",
    "    plt.show()"
   ]
  },
  {
   "cell_type": "code",
   "execution_count": 5,
   "metadata": {},
   "outputs": [
    {
     "name": "stdout",
     "output_type": "stream",
     "text": [
      "[('ch1', '<i2', (1000,)), ('ch2', '<i2', (1000,))]\n"
     ]
    }
   ],
   "source": [
    "print(data[0].dtype)"
   ]
  },
  {
   "cell_type": "code",
   "execution_count": 6,
   "metadata": {},
   "outputs": [
    {
     "ename": "TypeError",
     "evalue": "data type 'ch' not understood",
     "output_type": "error",
     "traceback": [
      "\u001b[0;31m---------------------------------------------------------------------------\u001b[0m",
      "\u001b[0;31mTypeError\u001b[0m                                 Traceback (most recent call last)",
      "Cell \u001b[0;32mIn[6], line 1\u001b[0m\n\u001b[0;32m----> 1\u001b[0m peak_data\u001b[38;5;241m=\u001b[39m\u001b[43mnp\u001b[49m\u001b[38;5;241;43m.\u001b[39;49m\u001b[43mzeros\u001b[49m\u001b[43m(\u001b[49m\u001b[43m \u001b[49m\u001b[43m(\u001b[49m\u001b[38;5;241;43m1\u001b[39;49m\u001b[43m,\u001b[49m\u001b[43m)\u001b[49m\u001b[43m,\u001b[49m\u001b[43m \u001b[49m\u001b[43mdtype\u001b[49m\u001b[38;5;241;43m=\u001b[39;49m\u001b[43m(\u001b[49m\u001b[38;5;124;43m'\u001b[39;49m\u001b[38;5;124;43mch\u001b[39;49m\u001b[38;5;124;43m'\u001b[39;49m\u001b[43m)\u001b[49m\u001b[43m)\u001b[49m\n\u001b[1;32m      3\u001b[0m signal_channel\u001b[38;5;241m=\u001b[39m\u001b[38;5;124m'\u001b[39m\u001b[38;5;124mch1\u001b[39m\u001b[38;5;124m'\u001b[39m\n\u001b[1;32m      4\u001b[0m trigger_channel\u001b[38;5;241m=\u001b[39m\u001b[38;5;124m'\u001b[39m\u001b[38;5;124mch2\u001b[39m\u001b[38;5;124m'\u001b[39m\n",
      "\u001b[0;31mTypeError\u001b[0m: data type 'ch' not understood"
     ]
    }
   ],
   "source": [
    "peak_data=np.zeros( (1,), dtype=('ch'))\n",
    "\n",
    "signal_channel='ch1'\n",
    "trigger_channel='ch2'\n",
    "peak=10\n",
    "trigger_peak=11\n",
    "peaks_prop={signal_channel: {'relative_height': 20},trigger_channel: {'relative_height':21}}\n",
    "\n",
    "print(peak_data)\n",
    "\n",
    "peak_data[0][signal_channel+'_position'] = peak\n",
    "peak_data[0][trigger_channel+'_position'] = trigger_peak\n",
    "peak_data[0][signal_channel+'_height'] = peaks_prop[signal_channel]['relative_height']\n",
    "peak_data[0][trigger_channel+'_height'] = peaks_prop[trigger_channel]['relative_height']"
   ]
  },
  {
   "cell_type": "code",
   "execution_count": null,
   "metadata": {},
   "outputs": [],
   "source": []
  },
  {
   "cell_type": "code",
   "execution_count": null,
   "metadata": {},
   "outputs": [],
   "source": []
  }
 ],
 "metadata": {
  "kernelspec": {
   "display_name": "base",
   "language": "python",
   "name": "python3"
  },
  "language_info": {
   "codemirror_mode": {
    "name": "ipython",
    "version": 3
   },
   "file_extension": ".py",
   "mimetype": "text/x-python",
   "name": "python",
   "nbconvert_exporter": "python",
   "pygments_lexer": "ipython3",
   "version": "3.10.12"
  }
 },
 "nbformat": 4,
 "nbformat_minor": 2
}
